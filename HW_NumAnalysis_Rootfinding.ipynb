{
 "cells": [
  {
   "cell_type": "code",
   "execution_count": 1,
   "metadata": {},
   "outputs": [],
   "source": [
    "import numpy\n",
    "import math\n",
    "def f(x):\n",
    "    return x + math.log(x) - 2"
   ]
  },
  {
   "cell_type": "code",
   "execution_count": null,
   "metadata": {},
   "outputs": [],
   "source": []
  },
  {
   "cell_type": "code",
   "execution_count": 2,
   "metadata": {},
   "outputs": [
    {
     "name": "stdout",
     "output_type": "stream",
     "text": [
      "Step 1, x1 = 2.000, f(x1) = 0.693\n",
      "Step 2, x1 = 1.307, f(x1) = -0.426\n",
      "Step 3, x1 = 1.732, f(x1) = 0.282\n",
      "Step 4, x1 = 1.451, f(x1) = -0.178\n",
      "Step 5, x1 = 1.628, f(x1) = 0.115\n",
      "Step 6, x1 = 1.513, f(x1) = -0.074\n",
      "Step 7, x1 = 1.586, f(x1) = 0.047\n",
      "Step 8, x1 = 1.539, f(x1) = -0.030\n",
      "Step 9, x1 = 1.569, f(x1) = 0.020\n",
      "Step 10, x1 = 1.550, f(x1) = -0.013\n",
      "Step 11, x1 = 1.562, f(x1) = 0.008\n",
      "Step 12, x1 = 1.554, f(x1) = -0.005\n",
      "Step 13, x1 = 1.559, f(x1) = 0.003\n",
      "Step 14, x1 = 1.556, f(x1) = -0.002\n",
      "Step 15, x1 = 1.558, f(x1) = 0.001\n",
      "Step 16, x1 = 1.557, f(x1) = -0.001\n",
      "\n",
      "Required root is: 1.557\n"
     ]
    }
   ],
   "source": [
    "#FixedpointIteration\n",
    "def g(x):\n",
    "    return 2 - math.log(x)\n",
    "\n",
    "def fixedpoint(x0,epsilon,N):\n",
    "    step = 1\n",
    "    flag = 1\n",
    "    condition = True\n",
    "    while condition:\n",
    "        x1 = g(x0)\n",
    "        print('Step %d, x1 = %0.3f, f(x1) = %0.3f'%(step,x1,f(x1)))\n",
    "        x0 = x1\n",
    "        step = step+1\n",
    "        if step > N:\n",
    "            flag=0\n",
    "            break\n",
    "        condition = abs(f(x1)) > epsilon\n",
    "    if flag == 1:\n",
    "        print('\\nRequired root is: %0.3f' % x1)\n",
    "    else:\n",
    "        print('\\nNot Convergent.')\n",
    "\n",
    "fixedpoint(1,0.001,50)"
   ]
  },
  {
   "cell_type": "code",
   "execution_count": 3,
   "metadata": {},
   "outputs": [
    {
     "name": "stdout",
     "output_type": "stream",
     "text": [
      "Step 1, c= 1.500, f(c)= -0.095\n",
      "Step 2, c= 1.750, f(c)= 0.310\n",
      "Step 3, c= 1.625, f(c)= 0.111\n",
      "Step 4, c= 1.562, f(c)= 0.009\n",
      "Step 5, c= 1.531, f(c)= -0.043\n",
      "Step 6, c= 1.547, f(c)= -0.017\n",
      "Step 7, c= 1.555, f(c)= -0.004\n",
      "Step 8, c= 1.559, f(c)= 0.002\n",
      "Step 9, c= 1.557, f(c)= -0.001\n",
      "\n",
      "Required root is 1.557\n"
     ]
    }
   ],
   "source": [
    "#BisectionMethod\n",
    "def bisec(a,b,epsilon,N):\n",
    "    step = 1\n",
    "    condition = True\n",
    "    while condition:\n",
    "        c = (a+b)/2\n",
    "        print('Step %d, c= %0.3f, f(c)= %0.3f'%(step,c,f(c)))\n",
    "        if f(c) * f(a) < 0:\n",
    "              b = c\n",
    "        else :\n",
    "              a = c\n",
    "        step = step + 1\n",
    "        if step > N:\n",
    "              break\n",
    "        condition = abs(f(c)) > epsilon\n",
    "    print('\\nRequired root is %0.3f'%c)\n",
    "\n",
    "bisec(1,2,0.001,50)"
   ]
  },
  {
   "cell_type": "code",
   "execution_count": 4,
   "metadata": {},
   "outputs": [
    {
     "name": "stdout",
     "output_type": "stream",
     "text": [
      "Step 1, x2 = 1.591 and f(x2) = 0.055\n",
      "Step 2, x2 = 1.556 and f(x2) = -0.003\n",
      "Step 3, x2 = 1.557 and f(x2) = 0.000\n",
      "\n",
      " Required root is: 1.557\n"
     ]
    }
   ],
   "source": [
    "#SecantMethod\n",
    "def secant(x0,x1,epsilon,N):\n",
    "    step = 1\n",
    "    condition = True\n",
    "    while condition:\n",
    "        if f(x0) == f(x1):\n",
    "            print('Error')\n",
    "            break\n",
    "        x2 = x1 - f(x1)*(x1-x0)/(f(x1)-f(x0))\n",
    "        print('Step %d, x2 = %0.3f and f(x2) = %0.3f' % (step, x2, f(x2)))\n",
    "        x0 = x1\n",
    "        x1 = x2\n",
    "        step = step + 1\n",
    "        \n",
    "        if step > N:\n",
    "            print('Not Convergent!')\n",
    "            break\n",
    "        \n",
    "        condition = abs(f(x2)) > epsilon\n",
    "    print('\\n Required root is: %0.3f' % x2)\n",
    "secant(1,2,0.001,30)"
   ]
  },
  {
   "cell_type": "code",
   "execution_count": 5,
   "metadata": {},
   "outputs": [
    {
     "name": "stdout",
     "output_type": "stream",
     "text": [
      "Step 1, x1 = 1.5000, f(x1) = -0.0945\n",
      "Step 2, x1 = 1.5567, f(x1) = -0.0007\n",
      "Step 3, x1 = 1.5571, f(x1) = -0.0000\n",
      "\n",
      "Required root is 1.5571\n"
     ]
    }
   ],
   "source": [
    "#Newton's Method\n",
    "def df(x):\n",
    "    return 1+(1/x)\n",
    "\n",
    "def newton(x0,epsilon,N):\n",
    "    step = 1\n",
    "    flag = 1\n",
    "    condition = True\n",
    "    while condition:\n",
    "        if df(x0) == 0.00:\n",
    "            print('Error!')\n",
    "            break\n",
    "        x1 = x0 - f(x0) / df(x0)\n",
    "        print('Step %d, x1 = %0.4f, f(x1) = %0.4f'%(step, x1, f(x1)))\n",
    "        x0 = x1\n",
    "        step = step + 1\n",
    "        \n",
    "        if step > N:\n",
    "            flag = 0\n",
    "            break\n",
    "            \n",
    "        condition = abs(f(x1)) > epsilon\n",
    "    if flag == 1:\n",
    "        print('\\nRequired root is %0.4f' % x1)\n",
    "    else :\n",
    "        print('Not Convergent')\n",
    "\n",
    "newton(1,0.00005,20)"
   ]
  },
  {
   "cell_type": "code",
   "execution_count": 6,
   "metadata": {},
   "outputs": [
    {
     "name": "stdout",
     "output_type": "stream",
     "text": [
      "Step 1, p2 = 1.500, f(p2) = -0.095\n",
      "Step 2, p2 = 1.553, f(p2) = -0.007\n",
      "\n",
      "Required root is 1.557\n"
     ]
    }
   ],
   "source": [
    "#Müller's Method\n",
    "\n",
    "def div_diff(Func,xs=[float]):\n",
    "    \"\"\"Calculate the divided difference f[x0, x1, ...].\"\"\"\n",
    "    if len(xs) == 2:\n",
    "        a, b = xs\n",
    "        return (f(a) - f(b)) / (a - b)\n",
    "    else:\n",
    "        return (div_diff(f, xs[1:]) - div_diff(f, xs[0:-1])) / (xs[-1] - xs[0])\n",
    "\n",
    "def muller(Func, xs: (float, float, float), epsilon, N):\n",
    "    \"\"\"Return the root calculated using Muller's method.\"\"\"\n",
    "    p0, p1, p2 = xs\n",
    "    step = 1\n",
    "    condition = True\n",
    "    while condition:\n",
    "        c = f(p2)\n",
    "        b = div_diff(f, (p2, p1)) + div_diff(f, (p2, p0)) - div_diff(f, (p2, p1))\n",
    "        a = div_diff(f, (p2, p1, p0))\n",
    "        s_delta = math.sqrt(b ** 2 - 4 * c * a)\n",
    "        denoms = [b + s_delta, b - s_delta]\n",
    "        # Take the higher-magnitude denominator\n",
    "        p3 = p2 - 2 * c / max(denoms, key=abs)\n",
    "        print('Step %d, p2 = %0.3f, f(p2) = %0.3f'%(step, p2, f(p2)))\n",
    "        # Advance\n",
    "        p0, p1, p2 = p1, p2, p3\n",
    "        step = step + 1\n",
    "        if step > N:\n",
    "            print('Not Convergent')\n",
    "            break\n",
    "        condition = abs(f(p2)) > epsilon\n",
    "    print('\\nRequired root is %0.3f' % p2)\n",
    "\n",
    "\n",
    "muller(f, (1.0,1.25,1.5), 0.001, 5)"
   ]
  },
  {
   "cell_type": "code",
   "execution_count": null,
   "metadata": {},
   "outputs": [],
   "source": []
  },
  {
   "cell_type": "code",
   "execution_count": null,
   "metadata": {},
   "outputs": [],
   "source": []
  }
 ],
 "metadata": {
  "kernelspec": {
   "display_name": "Python 3 (ipykernel)",
   "language": "python",
   "name": "python3"
  },
  "language_info": {
   "codemirror_mode": {
    "name": "ipython",
    "version": 3
   },
   "file_extension": ".py",
   "mimetype": "text/x-python",
   "name": "python",
   "nbconvert_exporter": "python",
   "pygments_lexer": "ipython3",
   "version": "3.9.10+"
  }
 },
 "nbformat": 4,
 "nbformat_minor": 2
}
